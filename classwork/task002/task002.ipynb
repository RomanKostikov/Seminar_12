{
 "cells": [
  {
   "attachments": {},
   "cell_type": "markdown",
   "metadata": {},
   "source": [
    "## Групповая работа [2](второй вариант решение, решения нет!!)\n",
    "\n",
    "Дана задача: \n",
    "\n",
    "К аналитику обратился риэлтор c задачей выставить ценник для продажи объектов недвижимости площадью 48м2 и 54м2. В ходе работы над задачей аналитик выяснил, что:  \n",
    "\n",
    "объект 31м2 стоит $19310\n",
    "\n",
    "объект 51м2 стоит $52150\n",
    "\n",
    "объект 61м2 стоит $74570\n",
    "\n",
    "Вопрос: что сказать риелтору?"
   ]
  },
  {
   "cell_type": "code",
   "execution_count": 9,
   "metadata": {},
   "outputs": [],
   "source": [
    "from sympy.core.symbol import symbols, Symbol\n",
    "from sympy.solvers.solveset import nonlinsolve\n",
    "from sympy.plotting import plot\n",
    "from sympy import *\n"
   ]
  },
  {
   "cell_type": "code",
   "execution_count": 10,
   "metadata": {},
   "outputs": [],
   "source": [
    "a, b, c, d = symbols('a, b, c, d')\n",
    "x = Symbol('x')"
   ]
  },
  {
   "cell_type": "code",
   "execution_count": 11,
   "metadata": {},
   "outputs": [
    {
     "data": {
      "text/latex": [
       "$\\displaystyle c + 20 x^{2} + 2 x$"
      ],
      "text/plain": [
       "c + 20*x**2 + 2*x"
      ]
     },
     "execution_count": 11,
     "metadata": {},
     "output_type": "execute_result"
    }
   ],
   "source": [
    "fd = 20*x**2+2*x+c\n",
    "fd"
   ]
  },
  {
   "cell_type": "code",
   "execution_count": 12,
   "metadata": {},
   "outputs": [
    {
     "data": {
      "text/latex": [
       "$\\displaystyle c + 46176$"
      ],
      "text/plain": [
       "c + 46176"
      ]
     },
     "execution_count": 12,
     "metadata": {},
     "output_type": "execute_result"
    }
   ],
   "source": [
    "f.subs(x, 48)\n"
   ]
  }
 ],
 "metadata": {
  "kernelspec": {
   "display_name": "base",
   "language": "python",
   "name": "python3"
  },
  "language_info": {
   "codemirror_mode": {
    "name": "ipython",
    "version": 3
   },
   "file_extension": ".py",
   "mimetype": "text/x-python",
   "name": "python",
   "nbconvert_exporter": "python",
   "pygments_lexer": "ipython3",
   "version": "3.9.13"
  },
  "orig_nbformat": 4,
  "vscode": {
   "interpreter": {
    "hash": "19fa838742d2c6b0ee93720451b7cc7b1eb2c1ea5970fcd40821869943c59421"
   }
  }
 },
 "nbformat": 4,
 "nbformat_minor": 2
}
